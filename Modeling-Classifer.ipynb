{
 "cells": [
  {
   "cell_type": "code",
   "execution_count": 98,
   "metadata": {},
   "outputs": [],
   "source": [
    "import pandas as pd\n",
    "import numpy as np\n",
    "import matplotlib\n",
    "%matplotlib inline\n",
    "import warnings\n",
    "warnings.filterwarnings('ignore')"
   ]
  },
  {
   "cell_type": "code",
   "execution_count": 99,
   "metadata": {},
   "outputs": [],
   "source": [
    "train = pd.read_csv(\"train_ready_for_model.csv\")"
   ]
  },
  {
   "cell_type": "code",
   "execution_count": 100,
   "metadata": {},
   "outputs": [],
   "source": [
    "test = pd.read_csv(\"test_ready_for_model.csv\")"
   ]
  },
  {
   "cell_type": "code",
   "execution_count": 101,
   "metadata": {},
   "outputs": [],
   "source": [
    "result = test[[\"Loan_ID\"]]"
   ]
  },
  {
   "cell_type": "code",
   "execution_count": 102,
   "metadata": {},
   "outputs": [
    {
     "data": {
      "text/plain": [
       "Index([u'Loan_ID', u'ApplicantIncome', u'CoapplicantIncome', u'Credit_History',\n",
       "       u'Dependents', u'Education', u'Gender', u'LoanAmount',\n",
       "       u'Loan_Amount_Term', u'Loan_Status', u'Married', u'Property_Area',\n",
       "       u'Self_Employed'],\n",
       "      dtype='object')"
      ]
     },
     "execution_count": 102,
     "metadata": {},
     "output_type": "execute_result"
    }
   ],
   "source": [
    "train.columns"
   ]
  },
  {
   "cell_type": "code",
   "execution_count": 103,
   "metadata": {},
   "outputs": [],
   "source": [
    "result[\"Loan_Status\"] = train.Loan_Status"
   ]
  },
  {
   "cell_type": "code",
   "execution_count": 104,
   "metadata": {},
   "outputs": [],
   "source": [
    "result.to_csv(\"res1.csv\",index=False)"
   ]
  },
  {
   "cell_type": "code",
   "execution_count": 105,
   "metadata": {},
   "outputs": [],
   "source": [
    "target = 'Loan_Status'\n",
    "IDcol = ['Loan_ID']\n",
    "from sklearn import model_selection, metrics\n",
    "from sklearn.metrics import classification_report\n",
    "\n",
    "def modelfit(alg, dtrain, dtest, predictors, target, IDcol, filename):\n",
    "    #Fit the algorithm on the data\n",
    "    alg.fit(dtrain[predictors], dtrain[target])\n",
    "    \n",
    "    #Predict training set:\n",
    "    dtrain_predictions = alg.predict(dtrain[predictors])\n",
    "    kfold = model_selection.KFold(n_splits=10, random_state=7)\n",
    "    \n",
    "    #CrossValidation:\n",
    "    cv_train_score = model_selection.cross_val_score(alg, dtrain[predictors], dtrain[target], cv=kfold, scoring='accuracy')\n",
    "    print(\"10-fold cross validation average accuracy: %.3f\" % (cv_train_score.mean()))\n",
    "    #cv_train_score = np.sqrt(np.abs(cv_train_score))\n",
    "    \n",
    "    #Print model report:\n",
    "    print(\"\\nModel Report\")\n",
    "    print(classification_report(dtrain[target].values, dtrain_predictions))\n",
    "    #print(\"Train CV score : \", cv_train_score)\n",
    "    #print(\"Train RMSE : %.4g\" % np.sqrt(metrics.mean_squared_error(dtrain[target].values, dtrain_predictions)))\n",
    "        \n",
    "    #Predict on testing data:\n",
    "    dtest[target] = alg.predict(dtest[predictors])\n",
    "    \n",
    "    #Export submission file:\n",
    "    IDcol.append(target)\n",
    "    submission = pd.DataFrame({ x: dtest[x] for x in IDcol})\n",
    "    submission.to_csv(filename, index=False)"
   ]
  },
  {
   "cell_type": "code",
   "execution_count": 106,
   "metadata": {},
   "outputs": [
    {
     "name": "stdout",
     "output_type": "stream",
     "text": [
      "('predictors : ', ['ApplicantIncome', 'CoapplicantIncome', 'Credit_History', 'Dependents', 'Education', 'Gender', 'LoanAmount', 'Loan_Amount_Term', 'Married', 'Property_Area', 'Self_Employed'])\n",
      "10-fold cross validation average accuracy: 0.806\n",
      "\n",
      "Model Report\n",
      "             precision    recall  f1-score   support\n",
      "\n",
      "        0.0       0.91      0.44      0.59       192\n",
      "        1.0       0.79      0.98      0.88       422\n",
      "\n",
      "avg / total       0.83      0.81      0.79       614\n",
      "\n"
     ]
    }
   ],
   "source": [
    "from sklearn.linear_model import LogisticRegression\n",
    "predictors = [x for x in train.columns if x not in [target]+IDcol]\n",
    "print(\"predictors : \",predictors)\n",
    "# print predictors\n",
    "alg1 = LogisticRegression()\n",
    "modelfit(alg1, train, test, predictors, target, IDcol, 'res2.csv')\n",
    "##coef1 = pd.Series(alg1.coef_, predictors).sort_values()\n",
    "##coef1.plot(kind='bar', title='Model Coefficients')"
   ]
  },
  {
   "cell_type": "code",
   "execution_count": 107,
   "metadata": {},
   "outputs": [],
   "source": [
    "final=pd.read_csv('res2.csv')"
   ]
  },
  {
   "cell_type": "code",
   "execution_count": 108,
   "metadata": {},
   "outputs": [],
   "source": [
    "final.Loan_Status = final.Loan_Status.astype(str)"
   ]
  },
  {
   "cell_type": "code",
   "execution_count": 112,
   "metadata": {},
   "outputs": [],
   "source": [
    "final.Loan_Status=final.Loan_Status.apply( lambda x: x.replace('1.0','Y'))\n",
    "final.Loan_Status=final.Loan_Status.apply( lambda x: x.replace('0.0','N'))\n",
    "#final.head()\n",
    "final.to_csv(\"sub.csv\",index=False)"
   ]
  },
  {
   "cell_type": "code",
   "execution_count": 87,
   "metadata": {},
   "outputs": [],
   "source": [
    "from sklearn.neighbors import KNeighborsClassifier"
   ]
  },
  {
   "cell_type": "code",
   "execution_count": 88,
   "metadata": {},
   "outputs": [
    {
     "name": "stdout",
     "output_type": "stream",
     "text": [
      "10-fold cross validation average accuracy: 0.575\n",
      "\n",
      "Model Report\n",
      "             precision    recall  f1-score   support\n",
      "\n",
      "        0.0       1.00      1.00      1.00       192\n",
      "        1.0       1.00      1.00      1.00       422\n",
      "\n",
      "avg / total       1.00      1.00      1.00       614\n",
      "\n",
      "10-fold cross validation average accuracy: 0.506\n",
      "\n",
      "Model Report\n",
      "             precision    recall  f1-score   support\n",
      "\n",
      "        0.0       0.61      1.00      0.75       192\n",
      "        1.0       1.00      0.70      0.83       422\n",
      "\n",
      "avg / total       0.88      0.80      0.80       614\n",
      "\n",
      "10-fold cross validation average accuracy: 0.603\n",
      "\n",
      "Model Report\n",
      "             precision    recall  f1-score   support\n",
      "\n",
      "        0.0       0.70      0.52      0.59       192\n",
      "        1.0       0.80      0.90      0.85       422\n",
      "\n",
      "avg / total       0.77      0.78      0.77       614\n",
      "\n",
      "10-fold cross validation average accuracy: 0.539\n",
      "\n",
      "Model Report\n",
      "             precision    recall  f1-score   support\n",
      "\n",
      "        0.0       0.59      0.64      0.61       192\n",
      "        1.0       0.83      0.80      0.81       422\n",
      "\n",
      "avg / total       0.75      0.75      0.75       614\n",
      "\n",
      "10-fold cross validation average accuracy: 0.617\n",
      "\n",
      "Model Report\n",
      "             precision    recall  f1-score   support\n",
      "\n",
      "        0.0       0.63      0.33      0.44       192\n",
      "        1.0       0.75      0.91      0.82       422\n",
      "\n",
      "avg / total       0.71      0.73      0.70       614\n",
      "\n",
      "10-fold cross validation average accuracy: 0.580\n",
      "\n",
      "Model Report\n",
      "             precision    recall  f1-score   support\n",
      "\n",
      "        0.0       0.56      0.48      0.52       192\n",
      "        1.0       0.78      0.83      0.80       422\n",
      "\n",
      "avg / total       0.71      0.72      0.72       614\n",
      "\n",
      "10-fold cross validation average accuracy: 0.627\n",
      "\n",
      "Model Report\n",
      "             precision    recall  f1-score   support\n",
      "\n",
      "        0.0       0.66      0.26      0.37       192\n",
      "        1.0       0.74      0.94      0.83       422\n",
      "\n",
      "avg / total       0.71      0.73      0.68       614\n",
      "\n",
      "10-fold cross validation average accuracy: 0.594\n",
      "\n",
      "Model Report\n",
      "             precision    recall  f1-score   support\n",
      "\n",
      "        0.0       0.53      0.33      0.41       192\n",
      "        1.0       0.74      0.87      0.80       422\n",
      "\n",
      "avg / total       0.67      0.70      0.68       614\n",
      "\n",
      "10-fold cross validation average accuracy: 0.659\n",
      "\n",
      "Model Report\n",
      "             precision    recall  f1-score   support\n",
      "\n",
      "        0.0       0.64      0.19      0.30       192\n",
      "        1.0       0.72      0.95      0.82       422\n",
      "\n",
      "avg / total       0.70      0.71      0.66       614\n",
      "\n"
     ]
    }
   ],
   "source": [
    "from sklearn.neighbors import KNeighborsClassifier\n",
    "predictors = [x for x in train.columns if x not in [target]+IDcol]\n",
    "# print predictors\n",
    "for i in range(1,10):\n",
    "    alg1 = KNeighborsClassifier(n_neighbors=i)\n",
    "    modelfit(alg1, train, test, predictors, target, IDcol, 'res3.csv')\n",
    "#coef1 = pd.Series(alg1.coef_, predictors).sort_values()\n",
    "#coef1.plot(kind='bar', title='Model Coefficients')"
   ]
  },
  {
   "cell_type": "code",
   "execution_count": 89,
   "metadata": {},
   "outputs": [
    {
     "name": "stdout",
     "output_type": "stream",
     "text": [
      "10-fold cross validation average accuracy: 0.687\n",
      "\n",
      "Model Report\n",
      "             precision    recall  f1-score   support\n",
      "\n",
      "        0.0       0.00      0.00      0.00       192\n",
      "        1.0       0.69      1.00      0.81       422\n",
      "\n",
      "avg / total       0.47      0.69      0.56       614\n",
      "\n"
     ]
    }
   ],
   "source": [
    "from sklearn.ensemble import RandomForestClassifier\n",
    "predictors = [x for x in train.columns if x not in [target]+IDcol]\n",
    "# print predictors\n",
    "alg1 = RandomForestClassifier(n_estimators=200,max_depth=15, min_samples_leaf=100)\n",
    "modelfit(alg1, train, test, predictors, target, IDcol, 'res4.csv')\n",
    "#coef1 = pd.Series(alg1.coef_, predictors).sort_values()\n",
    "#coef1.plot(kind='bar', title='Model Coefficients')"
   ]
  },
  {
   "cell_type": "code",
   "execution_count": 90,
   "metadata": {},
   "outputs": [
    {
     "name": "stdout",
     "output_type": "stream",
     "text": [
      "10-fold cross validation average accuracy: 0.777\n",
      "\n",
      "Model Report\n",
      "             precision    recall  f1-score   support\n",
      "\n",
      "        0.0       0.92      0.64      0.76       192\n",
      "        1.0       0.86      0.98      0.91       422\n",
      "\n",
      "avg / total       0.88      0.87      0.86       614\n",
      "\n"
     ]
    }
   ],
   "source": [
    "from sklearn.ensemble import AdaBoostClassifier\n",
    "predictors = [x for x in train.columns if x not in [target]+IDcol]\n",
    "# print predictors\n",
    "alg1 = AdaBoostClassifier(n_estimators=200)\n",
    "modelfit(alg1, train, test, predictors, target, IDcol, 'res5.csv')\n",
    "#coef1 = pd.Series(alg1.coef_, predictors).sort_values()\n",
    "#coef1.plot(kind='bar', title='Model Coefficients')"
   ]
  },
  {
   "cell_type": "code",
   "execution_count": 91,
   "metadata": {},
   "outputs": [
    {
     "name": "stdout",
     "output_type": "stream",
     "text": [
      "10-fold cross validation average accuracy: 0.687\n",
      "\n",
      "Model Report\n",
      "             precision    recall  f1-score   support\n",
      "\n",
      "        0.0       0.00      0.00      0.00       192\n",
      "        1.0       0.69      1.00      0.81       422\n",
      "\n",
      "avg / total       0.47      0.69      0.56       614\n",
      "\n"
     ]
    }
   ],
   "source": [
    "from sklearn.tree import DecisionTreeClassifier\n",
    "predictors = [x for x in train.columns if x not in [target]+IDcol]\n",
    "# print predictors\n",
    "alg1 = DecisionTreeClassifier(max_depth=15, min_samples_leaf=100)\n",
    "modelfit(alg1, train, test, predictors, target, IDcol, 'res6.csv')\n",
    "#coef1 = pd.Series(alg1.coef_, predictors).sort_values()\n",
    "#coef1.plot(kind='bar', title='Model Coefficients')"
   ]
  },
  {
   "cell_type": "code",
   "execution_count": null,
   "metadata": {},
   "outputs": [],
   "source": []
  }
 ],
 "metadata": {
  "kernelspec": {
   "display_name": "Python 2",
   "language": "python",
   "name": "python2"
  },
  "language_info": {
   "codemirror_mode": {
    "name": "ipython",
    "version": 2
   },
   "file_extension": ".py",
   "mimetype": "text/x-python",
   "name": "python",
   "nbconvert_exporter": "python",
   "pygments_lexer": "ipython2",
   "version": "2.7.15"
  }
 },
 "nbformat": 4,
 "nbformat_minor": 2
}
